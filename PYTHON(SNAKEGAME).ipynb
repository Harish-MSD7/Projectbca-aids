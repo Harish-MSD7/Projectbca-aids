{
  "nbformat": 4,
  "nbformat_minor": 0,
  "metadata": {
    "colab": {
      "provenance": []
    },
    "kernelspec": {
      "name": "python3",
      "display_name": "Python 3"
    },
    "language_info": {
      "name": "python"
    }
  },
  "cells": [
    {
      "cell_type": "code",
      "execution_count": null,
      "metadata": {
        "colab": {
          "base_uri": "https://localhost:8080/"
        },
        "id": "j4M5KmK14-gL",
        "outputId": "9adf4195-c66f-46dc-f4ca-5eaad2a3985b"
      },
      "outputs": [
        {
          "output_type": "stream",
          "name": "stdout",
          "text": [
            "pygame 2.5.2 (SDL 2.28.2, Python 3.10.12)\n",
            "Hello from the pygame community. https://www.pygame.org/contribute.html\n"
          ]
        }
      ],
      "source": [
        "import pygame\n",
        "import time\n",
        "import random\n",
        "\n",
        "pygame.init()\n",
        "\n",
        "# Set up the game window\n",
        "width, height = 600, 400\n",
        "window = pygame.display.set_mode((width, height))\n",
        "pygame.display.set_caption(\"Snake Game\")\n",
        "\n",
        "# Colors\n",
        "white = (255, 255, 255)\n",
        "black = (0, 0, 0)\n",
        "red = (255, 0, 0)\n",
        "\n",
        "# Snake characteristics\n",
        "snake_block = 10\n",
        "snake_speed = 15\n",
        "\n",
        "# Initialize the snake\n",
        "snake = [(width / 2, height / 2)]\n",
        "snake_direction = \"RIGHT\"\n",
        "\n",
        "# Initialize the first food location\n",
        "food = [random.randrange(1, (width//snake_block)) * snake_block,\n",
        "        random.randrange(1, (height//snake_block)) * snake_block]\n",
        "\n",
        "# Function to draw the snake on the window\n",
        "def draw_snake(snake):\n",
        "    for segment in snake:\n",
        "        pygame.draw.rect(window, white, [segment[0], segment[1], snake_block, snake_block])\n",
        "\n",
        "# Function to draw the food on the window\n",
        "def draw_food(food):\n",
        "    pygame.draw.rect(window, red, [food[0], food[1], snake_block, snake_block])\n",
        "\n",
        "# Main game loop\n",
        "game_over = False\n",
        "while not game_over:\n",
        "    for event in pygame.event.get():\n",
        "        if event.type == pygame.QUIT:\n",
        "            game_over = True\n",
        "        elif event.type == pygame.KEYDOWN:\n",
        "            if event.key == pygame.K_LEFT and not snake_direction == \"RIGHT\":\n",
        "                snake_direction = \"LEFT\"\n",
        "            elif event.key == pygame.K_RIGHT and not snake_direction == \"LEFT\":\n",
        "                snake_direction = \"RIGHT\"\n",
        "            elif event.key == pygame.K_UP and not snake_direction == \"DOWN\":\n",
        "                snake_direction = \"UP\"\n",
        "            elif event.key == pygame.K_DOWN and not snake_direction == \"UP\":\n",
        "                snake_direction = \"DOWN\"\n",
        "\n",
        "    # Move the snake\n",
        "    if snake_direction == \"UP\":\n",
        "        snake[0] = (snake[0][0], snake[0][1] - snake_block)\n",
        "    elif snake_direction == \"DOWN\":\n",
        "        snake[0] = (snake[0][0], snake[0][1] + snake_block)\n",
        "    elif snake_direction == \"LEFT\":\n",
        "        snake[0] = (snake[0][0] - snake_block, snake[0][1])\n",
        "    elif snake_direction == \"RIGHT\":\n",
        "        snake[0] = (snake[0][0] + snake_block, snake[0][1])\n",
        "\n",
        "    # Check if the snake has hit the boundaries\n",
        "    if (\n",
        "        snake[0][0] >= width or snake[0][0] < 0 or\n",
        "        snake[0][1] >= height or snake[0][1] < 0\n",
        "    ):\n",
        "        game_over = True\n",
        "\n",
        "    # Check if the snake has collided with itself\n",
        "    for segment in snake[1:]:\n",
        "        if snake[0] == segment:\n",
        "            game_over = True\n",
        "\n",
        "    # Check if the snake has eaten the food\n",
        "    if snake[0] == food:\n",
        "        food = [random.randrange(1, (width//snake_block)) * snake_block,\n",
        "                random.randrange(1, (height//snake_block)) * snake_block]\n",
        "        snake.append((0, 0))  # Add a new segment to the snake\n",
        "\n",
        "    # Update the window\n",
        "    window.fill(black)\n",
        "    draw_snake(snake)\n",
        "    draw_food(food)\n",
        "    pygame.display.update()\n",
        "\n",
        "    # Set the snake speed\n",
        "    time.sleep(1/snake_speed)\n",
        "\n",
        "# Quit the game\n",
        "pygame.quit()"
      ]
    }
  ]
}